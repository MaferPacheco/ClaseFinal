{
 "cells": [
  {
   "cell_type": "code",
   "execution_count": 2,
   "metadata": {},
   "outputs": [],
   "source": [
    "import pandas as pd\n",
    "import numpy as np\n",
    "import matplotlib.pyplot as plt\n",
    "import seaborn as sns"
   ]
  },
  {
   "cell_type": "code",
   "execution_count": 3,
   "metadata": {},
   "outputs": [
    {
     "data": {
      "text/html": [
       "<div>\n",
       "<style scoped>\n",
       "    .dataframe tbody tr th:only-of-type {\n",
       "        vertical-align: middle;\n",
       "    }\n",
       "\n",
       "    .dataframe tbody tr th {\n",
       "        vertical-align: top;\n",
       "    }\n",
       "\n",
       "    .dataframe thead th {\n",
       "        text-align: right;\n",
       "    }\n",
       "</style>\n",
       "<table border=\"1\" class=\"dataframe\">\n",
       "  <thead>\n",
       "    <tr style=\"text-align: right;\">\n",
       "      <th></th>\n",
       "      <th>Column1</th>\n",
       "      <th>Email Text</th>\n",
       "      <th>Email Type</th>\n",
       "    </tr>\n",
       "  </thead>\n",
       "  <tbody>\n",
       "    <tr>\n",
       "      <th>0</th>\n",
       "      <td>0</td>\n",
       "      <td>re : 6 . 1100 , disc : uniformitarianism , re ...</td>\n",
       "      <td>Safe Email</td>\n",
       "    </tr>\n",
       "    <tr>\n",
       "      <th>1</th>\n",
       "      <td>1</td>\n",
       "      <td>the other side of * galicismos * * galicismo *...</td>\n",
       "      <td>Safe Email</td>\n",
       "    </tr>\n",
       "    <tr>\n",
       "      <th>2</th>\n",
       "      <td>2</td>\n",
       "      <td>re : equistar deal tickets are you still avail...</td>\n",
       "      <td>Safe Email</td>\n",
       "    </tr>\n",
       "    <tr>\n",
       "      <th>3</th>\n",
       "      <td>3</td>\n",
       "      <td>\\nHello I am your hot lil horny toy.\\n    I am...</td>\n",
       "      <td>Phishing Email</td>\n",
       "    </tr>\n",
       "    <tr>\n",
       "      <th>4</th>\n",
       "      <td>4</td>\n",
       "      <td>software at incredibly low prices ( 86 % lower...</td>\n",
       "      <td>Phishing Email</td>\n",
       "    </tr>\n",
       "  </tbody>\n",
       "</table>\n",
       "</div>"
      ],
      "text/plain": [
       "   Column1                                         Email Text      Email Type\n",
       "0        0  re : 6 . 1100 , disc : uniformitarianism , re ...      Safe Email\n",
       "1        1  the other side of * galicismos * * galicismo *...      Safe Email\n",
       "2        2  re : equistar deal tickets are you still avail...      Safe Email\n",
       "3        3  \\nHello I am your hot lil horny toy.\\n    I am...  Phishing Email\n",
       "4        4  software at incredibly low prices ( 86 % lower...  Phishing Email"
      ]
     },
     "execution_count": 3,
     "metadata": {},
     "output_type": "execute_result"
    }
   ],
   "source": [
    "df = pd.read_csv(\"/workspaces/ClaseFinal/Phishing_Email_1500m.csv\", encoding=\"latin1\", sep=\";\")\n",
    "df.head()"
   ]
  },
  {
   "cell_type": "code",
   "execution_count": 4,
   "metadata": {},
   "outputs": [
    {
     "name": "stdout",
     "output_type": "stream",
     "text": [
      "Dimension of the DataFrame: (1501, 3)\n"
     ]
    }
   ],
   "source": [
    "print(\"Dimension of the DataFrame:\",df.shape)"
   ]
  },
  {
   "cell_type": "markdown",
   "metadata": {},
   "source": [
    "## Preprocesamiento del DataFrame"
   ]
  },
  {
   "cell_type": "code",
   "execution_count": 5,
   "metadata": {},
   "outputs": [
    {
     "data": {
      "text/plain": [
       "Column1       0\n",
       "Email Text    2\n",
       "Email Type    0\n",
       "dtype: int64"
      ]
     },
     "execution_count": 5,
     "metadata": {},
     "output_type": "execute_result"
    }
   ],
   "source": [
    "df.isnull().sum()"
   ]
  },
  {
   "cell_type": "code",
   "execution_count": 6,
   "metadata": {},
   "outputs": [
    {
     "name": "stdout",
     "output_type": "stream",
     "text": [
      "Dimension of the row data: (1501, 2)\n"
     ]
    }
   ],
   "source": [
    "#Eliminación de la columna denominada \"Column1\"\n",
    "#axis=1 indica que la operación se realizará a lo largo de las columnas del DataFrame\n",
    "\n",
    "df.drop([\"Column1\"],axis=1,inplace=True)\n",
    "print(\"Dimension of the row data:\",df.shape)"
   ]
  },
  {
   "cell_type": "code",
   "execution_count": 7,
   "metadata": {},
   "outputs": [
    {
     "name": "stdout",
     "output_type": "stream",
     "text": [
      "Dimension of the row data: (1448, 2)\n"
     ]
    }
   ],
   "source": [
    "#Eliminación de filas que tienen elementos vacíos o nulos (null values)\n",
    "#axis=0 se usa para operaciones a lo largo de las filas del DataFrame\n",
    "df.dropna(inplace=True,axis=0)\n",
    "df.drop_duplicates(inplace=True)\n",
    "print(\"Dimension of the row data:\",df.shape)"
   ]
  },
  {
   "cell_type": "code",
   "execution_count": 8,
   "metadata": {},
   "outputs": [
    {
     "data": {
      "text/html": [
       "<div>\n",
       "<style scoped>\n",
       "    .dataframe tbody tr th:only-of-type {\n",
       "        vertical-align: middle;\n",
       "    }\n",
       "\n",
       "    .dataframe tbody tr th {\n",
       "        vertical-align: top;\n",
       "    }\n",
       "\n",
       "    .dataframe thead th {\n",
       "        text-align: right;\n",
       "    }\n",
       "</style>\n",
       "<table border=\"1\" class=\"dataframe\">\n",
       "  <thead>\n",
       "    <tr style=\"text-align: right;\">\n",
       "      <th></th>\n",
       "      <th>Email Text</th>\n",
       "      <th>Email Type</th>\n",
       "    </tr>\n",
       "  </thead>\n",
       "  <tbody>\n",
       "    <tr>\n",
       "      <th>0</th>\n",
       "      <td>re : 6 . 1100 , disc : uniformitarianism , re ...</td>\n",
       "      <td>Safe Email</td>\n",
       "    </tr>\n",
       "    <tr>\n",
       "      <th>1</th>\n",
       "      <td>the other side of * galicismos * * galicismo *...</td>\n",
       "      <td>Safe Email</td>\n",
       "    </tr>\n",
       "    <tr>\n",
       "      <th>2</th>\n",
       "      <td>re : equistar deal tickets are you still avail...</td>\n",
       "      <td>Safe Email</td>\n",
       "    </tr>\n",
       "    <tr>\n",
       "      <th>3</th>\n",
       "      <td>\\nHello I am your hot lil horny toy.\\n    I am...</td>\n",
       "      <td>Phishing Email</td>\n",
       "    </tr>\n",
       "    <tr>\n",
       "      <th>4</th>\n",
       "      <td>software at incredibly low prices ( 86 % lower...</td>\n",
       "      <td>Phishing Email</td>\n",
       "    </tr>\n",
       "  </tbody>\n",
       "</table>\n",
       "</div>"
      ],
      "text/plain": [
       "                                          Email Text      Email Type\n",
       "0  re : 6 . 1100 , disc : uniformitarianism , re ...      Safe Email\n",
       "1  the other side of * galicismos * * galicismo *...      Safe Email\n",
       "2  re : equistar deal tickets are you still avail...      Safe Email\n",
       "3  \\nHello I am your hot lil horny toy.\\n    I am...  Phishing Email\n",
       "4  software at incredibly low prices ( 86 % lower...  Phishing Email"
      ]
     },
     "execution_count": 8,
     "metadata": {},
     "output_type": "execute_result"
    }
   ],
   "source": [
    "df.head()"
   ]
  },
  {
   "cell_type": "code",
   "execution_count": 9,
   "metadata": {},
   "outputs": [
    {
     "name": "stdout",
     "output_type": "stream",
     "text": [
      "False\n",
      "0           Safe Email\n",
      "1           Safe Email\n",
      "2           Safe Email\n",
      "3       Phishing Email\n",
      "4       Phishing Email\n",
      "             ...      \n",
      "1496        Safe Email\n",
      "1497    Phishing Email\n",
      "1498        Safe Email\n",
      "1499    Phishing Email\n",
      "1500        Safe Email\n",
      "Name: Email Type, Length: 1448, dtype: object\n",
      "==================================================\n",
      "0           safe email\n",
      "1           safe email\n",
      "2           safe email\n",
      "3       phishing email\n",
      "4       phishing email\n",
      "             ...      \n",
      "1496        safe email\n",
      "1497    phishing email\n",
      "1498        safe email\n",
      "1499    phishing email\n",
      "1500        safe email\n",
      "Name: Email Type, Length: 1448, dtype: object\n"
     ]
    }
   ],
   "source": [
    "#Comprobar si todos los valores de la columna 'Email Type' están en minúsculas\n",
    "all_lowercase = df['Email Type'].apply(lambda x: x.islower()).all()\n",
    "# Mostrar el resultado\n",
    "print(all_lowercase)\n",
    "print(df['Email Type'])\n",
    "print(f\"{'=' * 50}\")\n",
    "\n",
    "# Convertir todos los valores a minúsculas\n",
    "df['Email Type'] = df['Email Type'].str.lower()  \n",
    "# Mostrar el resultado\n",
    "print(df['Email Type'])"
   ]
  },
  {
   "cell_type": "code",
   "execution_count": 10,
   "metadata": {},
   "outputs": [
    {
     "name": "stdout",
     "output_type": "stream",
     "text": [
      "0           safe email\n",
      "1           safe email\n",
      "2           safe email\n",
      "3       phishing email\n",
      "4       phishing email\n",
      "             ...      \n",
      "1496        safe email\n",
      "1497    phishing email\n",
      "1498        safe email\n",
      "1499    phishing email\n",
      "1500        safe email\n",
      "Name: Email Type, Length: 1448, dtype: object\n"
     ]
    }
   ],
   "source": [
    "# Eliminar espacios en blanco\n",
    "df['Email Type'] = df['Email Type'].str.strip()  \n",
    "print(df['Email Type'])"
   ]
  },
  {
   "cell_type": "code",
   "execution_count": 11,
   "metadata": {},
   "outputs": [
    {
     "name": "stdout",
     "output_type": "stream",
     "text": [
      "['safe email' 'phishing email']\n"
     ]
    }
   ],
   "source": [
    "# Verificar los valores únicos en la columna\n",
    "print(df['Email Type'].unique())  "
   ]
  },
  {
   "cell_type": "code",
   "execution_count": 12,
   "metadata": {},
   "outputs": [
    {
     "name": "stdout",
     "output_type": "stream",
     "text": [
      "Email Type\n",
      "safe email        869\n",
      "phishing email    579\n",
      "Name: count, dtype: int64\n"
     ]
    }
   ],
   "source": [
    "email_type_counts = df['Email Type'].value_counts()\n",
    "print(email_type_counts)"
   ]
  },
  {
   "cell_type": "markdown",
   "metadata": {},
   "source": [
    "## Modificación del DataFrame para generar distintas gráficas.\n",
    "\n",
    "Como nuestro dataFrame únicamente tiene 2 columnas de información, procederemos a crear adicionales con datos simulados, basándonos en el código visto en clase.\n",
    "\n",
    "* Timestamp (fecha y horas aleatorias).\n",
    "\n",
    "* IP_origen (direcciones IP aleatorias).\n",
    "\n",
    "* Email_domain (dominios de correo).\n",
    "\n",
    "* Priority_level (nivel de prioridad).\n",
    "\n",
    "* Country (país de origen)."
   ]
  },
  {
   "cell_type": "markdown",
   "metadata": {},
   "source": [
    "**1. Timestamp**\n",
    "\n",
    "Como no tenemos una columna de tiempo real, generaremos una columna con fechas y horas aleatorias."
   ]
  },
  {
   "cell_type": "code",
   "execution_count": 13,
   "metadata": {},
   "outputs": [
    {
     "name": "stdout",
     "output_type": "stream",
     "text": [
      "0      2023-03-08 00:27:43\n",
      "1      2023-12-02 00:00:07\n",
      "2      2023-05-27 03:34:47\n",
      "3      2023-01-22 16:54:23\n",
      "4      2023-10-20 11:54:12\n",
      "               ...        \n",
      "1496   2023-02-01 00:22:03\n",
      "1497   2023-07-31 04:48:50\n",
      "1498   2023-11-02 20:01:03\n",
      "1499   2023-10-17 10:30:33\n",
      "1500   2023-03-29 18:05:53\n",
      "Name: Timestamp, Length: 1448, dtype: datetime64[ns]\n"
     ]
    }
   ],
   "source": [
    "# Importamos librería requerida\n",
    "from datetime import datetime, timedelta\n",
    "\n",
    "# Generar una fecha aleatoria dentro de un rango\n",
    "def generate_random_timestamp(start, end):\n",
    "    return start + timedelta(seconds=np.random.randint(0, int((end - start).total_seconds())))\n",
    "\n",
    "# Definir el rango de fechas\n",
    "start_date = datetime(2023, 1, 1)\n",
    "end_date = datetime(2024, 1, 1)\n",
    "\n",
    "# Aplicar la función a cada fila del DataFrame\n",
    "df['Timestamp'] = [generate_random_timestamp(start_date, end_date) for _ in range(len(df))]\n",
    "print(df['Timestamp'])"
   ]
  },
  {
   "cell_type": "markdown",
   "metadata": {},
   "source": [
    "**2. IP_origen**\n",
    "\n",
    "Generaremos direcciones IP aleatorias dentro de un rango específico. \n"
   ]
  },
  {
   "cell_type": "code",
   "execution_count": 14,
   "metadata": {},
   "outputs": [
    {
     "name": "stdout",
     "output_type": "stream",
     "text": [
      "0        220.239.95.134\n",
      "1       181.124.207.113\n",
      "2          173.68.49.21\n",
      "3         37.132.160.94\n",
      "4       150.166.214.246\n",
      "             ...       \n",
      "1496         10.8.89.53\n",
      "1497       15.133.17.92\n",
      "1498       24.8.106.177\n",
      "1499     169.186.22.139\n",
      "1500     53.254.173.220\n",
      "Name: IP_origen, Length: 1448, dtype: object\n"
     ]
    }
   ],
   "source": [
    "# Generar IPs aleatorias dentro de un rango\n",
    "def random_ip():\n",
    "    return f\"{np.random.randint(1, 256)}.{np.random.randint(1, 256)}.{np.random.randint(1, 256)}.{np.random.randint(1, 256)}\"\n",
    "\n",
    "# Aplicar la función a cada fila del DataFrame\n",
    "df['IP_origen'] = [random_ip() for _ in range(len(df))]\n",
    "print(df['IP_origen'])"
   ]
  },
  {
   "cell_type": "markdown",
   "metadata": {},
   "source": [
    "**3. Email_domain**\n",
    "\n",
    "Simularemos algunos dominios de las direcciones de correo y los agregaremos como una nueva columna. "
   ]
  },
  {
   "cell_type": "code",
   "execution_count": 15,
   "metadata": {},
   "outputs": [
    {
     "name": "stdout",
     "output_type": "stream",
     "text": [
      "0            hotmail.com\n",
      "1            outlook.com\n",
      "2            outlook.com\n",
      "3              yahoo.com\n",
      "4       @secureemail.com\n",
      "              ...       \n",
      "1496         hotmail.com\n",
      "1497           gmail.com\n",
      "1498           yahoo.com\n",
      "1499    @secureemail.com\n",
      "1500         @google.com\n",
      "Name: Email_domain, Length: 1448, dtype: object\n"
     ]
    }
   ],
   "source": [
    "# Simular un dominio de correo electrónico aleatorio\n",
    "dominios = ['gmail.com', 'yahoo.com', 'outlook.com', 'hotmail.com','microsoft.com', '@secureemail.com', '@google.com']\n",
    "\n",
    "def random_email_domain():\n",
    "    return np.random.choice(dominios)\n",
    "\n",
    "df['Email_domain'] = [random_email_domain() for _ in range(len(df))]\n",
    "print(df['Email_domain'])"
   ]
  },
  {
   "cell_type": "markdown",
   "metadata": {},
   "source": [
    "**4. Priority_level**\n",
    "\n",
    "Agregaremos una columna que simule el nivel de prioridad de un correo, basándonos en si es phishing email o safe email, ya que este dato viene en el dataset en la columna \"Email Type\"."
   ]
  },
  {
   "cell_type": "code",
   "execution_count": 16,
   "metadata": {},
   "outputs": [
    {
     "name": "stdout",
     "output_type": "stream",
     "text": [
      "0          Low\n",
      "1          Low\n",
      "2       Medium\n",
      "3         High\n",
      "4         High\n",
      "         ...  \n",
      "1496    Medium\n",
      "1497      High\n",
      "1498       Low\n",
      "1499      High\n",
      "1500    Medium\n",
      "Name: Priority_level, Length: 1448, dtype: object\n"
     ]
    }
   ],
   "source": [
    "# Definir posibles niveles de prioridad para los correos seguros\n",
    "safe_priority_options = ['Low', 'Medium']\n",
    "\n",
    "# Asignar 'High' si se trata de phishing, o asignar un valor aleatorio entre 'Low' y 'Medium' si es un email seguro\n",
    "df['Priority_level'] = df['Email Type'].apply(lambda x: 'High' if x == 'phishing email' else np.random.choice(safe_priority_options))\n",
    "print(df['Priority_level']) "
   ]
  },
  {
   "cell_type": "markdown",
   "metadata": {},
   "source": [
    "**5. Country**\n",
    "\n",
    "Simularemos la ubicación de origen de los correos mediante países."
   ]
  },
  {
   "cell_type": "code",
   "execution_count": 17,
   "metadata": {},
   "outputs": [
    {
     "name": "stdout",
     "output_type": "stream",
     "text": [
      "0              UK\n",
      "1          Canada\n",
      "2           Spain\n",
      "3          Brazil\n",
      "4       Argentina\n",
      "          ...    \n",
      "1496       Canada\n",
      "1497       Brazil\n",
      "1498    Argentina\n",
      "1499        Spain\n",
      "1500    Argentina\n",
      "Name: Country, Length: 1448, dtype: object\n"
     ]
    }
   ],
   "source": [
    "# Definir países de origen para los correos\n",
    "countries = ['USA', 'Canada', 'UK', 'Germany', 'India', 'Colombia', 'Brazil', 'Argentina', 'Spain']\n",
    "\n",
    "def random_country():\n",
    "    return np.random.choice(countries)\n",
    "\n",
    "df['Country'] = [random_country() for _ in range(len(df))]\n",
    "print(df['Country']) "
   ]
  },
  {
   "cell_type": "code",
   "execution_count": 18,
   "metadata": {},
   "outputs": [
    {
     "data": {
      "text/html": [
       "<div>\n",
       "<style scoped>\n",
       "    .dataframe tbody tr th:only-of-type {\n",
       "        vertical-align: middle;\n",
       "    }\n",
       "\n",
       "    .dataframe tbody tr th {\n",
       "        vertical-align: top;\n",
       "    }\n",
       "\n",
       "    .dataframe thead th {\n",
       "        text-align: right;\n",
       "    }\n",
       "</style>\n",
       "<table border=\"1\" class=\"dataframe\">\n",
       "  <thead>\n",
       "    <tr style=\"text-align: right;\">\n",
       "      <th></th>\n",
       "      <th>Email Text</th>\n",
       "      <th>Email Type</th>\n",
       "      <th>Timestamp</th>\n",
       "      <th>IP_origen</th>\n",
       "      <th>Email_domain</th>\n",
       "      <th>Priority_level</th>\n",
       "      <th>Country</th>\n",
       "    </tr>\n",
       "  </thead>\n",
       "  <tbody>\n",
       "    <tr>\n",
       "      <th>0</th>\n",
       "      <td>re : 6 . 1100 , disc : uniformitarianism , re ...</td>\n",
       "      <td>safe email</td>\n",
       "      <td>2023-03-08 00:27:43</td>\n",
       "      <td>220.239.95.134</td>\n",
       "      <td>hotmail.com</td>\n",
       "      <td>Low</td>\n",
       "      <td>UK</td>\n",
       "    </tr>\n",
       "    <tr>\n",
       "      <th>1</th>\n",
       "      <td>the other side of * galicismos * * galicismo *...</td>\n",
       "      <td>safe email</td>\n",
       "      <td>2023-12-02 00:00:07</td>\n",
       "      <td>181.124.207.113</td>\n",
       "      <td>outlook.com</td>\n",
       "      <td>Low</td>\n",
       "      <td>Canada</td>\n",
       "    </tr>\n",
       "    <tr>\n",
       "      <th>2</th>\n",
       "      <td>re : equistar deal tickets are you still avail...</td>\n",
       "      <td>safe email</td>\n",
       "      <td>2023-05-27 03:34:47</td>\n",
       "      <td>173.68.49.21</td>\n",
       "      <td>outlook.com</td>\n",
       "      <td>Medium</td>\n",
       "      <td>Spain</td>\n",
       "    </tr>\n",
       "    <tr>\n",
       "      <th>3</th>\n",
       "      <td>\\nHello I am your hot lil horny toy.\\n    I am...</td>\n",
       "      <td>phishing email</td>\n",
       "      <td>2023-01-22 16:54:23</td>\n",
       "      <td>37.132.160.94</td>\n",
       "      <td>yahoo.com</td>\n",
       "      <td>High</td>\n",
       "      <td>Brazil</td>\n",
       "    </tr>\n",
       "    <tr>\n",
       "      <th>4</th>\n",
       "      <td>software at incredibly low prices ( 86 % lower...</td>\n",
       "      <td>phishing email</td>\n",
       "      <td>2023-10-20 11:54:12</td>\n",
       "      <td>150.166.214.246</td>\n",
       "      <td>@secureemail.com</td>\n",
       "      <td>High</td>\n",
       "      <td>Argentina</td>\n",
       "    </tr>\n",
       "  </tbody>\n",
       "</table>\n",
       "</div>"
      ],
      "text/plain": [
       "                                          Email Text      Email Type  \\\n",
       "0  re : 6 . 1100 , disc : uniformitarianism , re ...      safe email   \n",
       "1  the other side of * galicismos * * galicismo *...      safe email   \n",
       "2  re : equistar deal tickets are you still avail...      safe email   \n",
       "3  \\nHello I am your hot lil horny toy.\\n    I am...  phishing email   \n",
       "4  software at incredibly low prices ( 86 % lower...  phishing email   \n",
       "\n",
       "            Timestamp        IP_origen      Email_domain Priority_level  \\\n",
       "0 2023-03-08 00:27:43   220.239.95.134       hotmail.com            Low   \n",
       "1 2023-12-02 00:00:07  181.124.207.113       outlook.com            Low   \n",
       "2 2023-05-27 03:34:47     173.68.49.21       outlook.com         Medium   \n",
       "3 2023-01-22 16:54:23    37.132.160.94         yahoo.com           High   \n",
       "4 2023-10-20 11:54:12  150.166.214.246  @secureemail.com           High   \n",
       "\n",
       "     Country  \n",
       "0         UK  \n",
       "1     Canada  \n",
       "2      Spain  \n",
       "3     Brazil  \n",
       "4  Argentina  "
      ]
     },
     "execution_count": 18,
     "metadata": {},
     "output_type": "execute_result"
    }
   ],
   "source": [
    "df.head()"
   ]
  },
  {
   "cell_type": "markdown",
   "metadata": {},
   "source": [
    "## Almacenamiento de registros en Base de Datos Postgres"
   ]
  },
  {
   "cell_type": "markdown",
   "metadata": {},
   "source": [
    "En el desarrollo de este código, se ha optado por \"actualizar\" la tabla en cada ejecución, con el objetivo de evitar la duplicación de registros. De esta manera, cada vez que se ejecute el código, se borrarán los registros previos y solo se insertarán los 10 registros solicitados para este parte de la tarea, garantizando que la base de datos no crezca innecesariamente con datos repetidos."
   ]
  },
  {
   "cell_type": "code",
   "execution_count": null,
   "metadata": {},
   "outputs": [
    {
     "name": "stdout",
     "output_type": "stream",
     "text": [
      "La base de datos 'phishing_data' ya existe.\n",
      "Tabla 'email_phishing' creada correctamente.\n",
      "Registros anteriores eliminados y contador de 'id' reiniciado.\n",
      "Primeros 10 registros insertados correctamente.\n",
      "Logs no estructurados guardados en 'unstructured_logs.json'\n"
     ]
    }
   ],
   "source": [
    "import psycopg2\n",
    "import json\n",
    "from datetime import datetime\n",
    "\n",
    "# Paso 1: Crear la base de datos y la tabla desde Python\n",
    "def create_database_and_table():\n",
    "    try:\n",
    "        # Conexión al servidor PostgreSQL (sin especificar una base de datos)\n",
    "        conn = psycopg2.connect(\n",
    "            user=\"postgres\", # Usuario predeterminado\n",
    "            password=\"postgres\",\n",
    "            host=\"localhost\",\n",
    "            port=\"5432\"\n",
    "        )\n",
    "        conn.autocommit = True # Necesario para crear una base de datos\n",
    "        cursor = conn.cursor()\n",
    "\n",
    "        # Crear la base de datos \"phishing_data\" si no existe\n",
    "        cursor.execute(\"SELECT datname FROM pg_database WHERE datname='phishing_data';\")\n",
    "        if not cursor.fetchone():\n",
    "            cursor.execute(\"CREATE DATABASE phishing_data;\")\n",
    "            print(\"Base de datos 'phishing_data' creada correctamente.\")\n",
    "        else:\n",
    "            print(\"La base de datos 'phishing_data' ya existe.\")\n",
    "\n",
    "        # Cerrar la conexión inicial\n",
    "        cursor.close()\n",
    "        conn.close()\n",
    "\n",
    "        # Conectar a la nueva base de datos\n",
    "        conn = psycopg2.connect(\n",
    "            database=\"phishing_data\",  # Conectar a la base de datos recién creada\n",
    "            user=\"postgres\",\n",
    "            password=\"postgres\",\n",
    "            host=\"localhost\",\n",
    "            port=\"5432\"\n",
    "        )\n",
    "        cursor = conn.cursor()\n",
    "\n",
    "        # Crear la tabla \"email_phishing\" si no existe\n",
    "        cursor.execute(\"\"\"\n",
    "        CREATE TABLE IF NOT EXISTS email_phishing (\n",
    "            id SERIAL PRIMARY KEY,\n",
    "            email_text TEXT,\n",
    "            email_type VARCHAR(50),\n",
    "            timestamp TIMESTAMP,\n",
    "            ip_origen VARCHAR(15),\n",
    "            email_domain VARCHAR(100),\n",
    "            priority_level VARCHAR(20),\n",
    "            country VARCHAR(50)\n",
    "        );\n",
    "        \"\"\")\n",
    "        print(\"Tabla 'email_phishing' creada correctamente.\")\n",
    "\n",
    "        # Confirmar cambios y cerrar la conexión\n",
    "        conn.commit()\n",
    "        cursor.close()\n",
    "        conn.close()\n",
    "\n",
    "    except Exception as e:\n",
    "        print(f\"Error al crear la base de datos o la tabla: {e}\")\n",
    "\n",
    "# Paso 2: Insertar los 10 primeros registros del DataFrame en la tabla\n",
    "def insert_dataframe_to_db():\n",
    "    try:\n",
    "        # Conectar a la base de datos\n",
    "        conn = psycopg2.connect(\n",
    "            database=\"phishing_data\",\n",
    "            user=\"postgres\",\n",
    "            password=\"postgres\",\n",
    "            host=\"localhost\",\n",
    "            port=\"5432\"\n",
    "        )\n",
    "        cursor = conn.cursor()\n",
    "\n",
    "        # Eliminar los registros anteriores y reiniciar el contador de 'id'\n",
    "        cursor.execute(\"TRUNCATE TABLE email_phishing RESTART IDENTITY;\")\n",
    "        conn.commit()\n",
    "        print(\"Registros anteriores eliminados y contador de 'id' reiniciado.\")\n",
    "\n",
    "        # Tomamos los primeros 10 registros del DataFrame\n",
    "        for _, row in df.head(10).iterrows():\n",
    "            # Insertar cada fila en la tabla\n",
    "            cursor.execute(\"\"\"\n",
    "                INSERT INTO email_phishing (email_text, email_type, timestamp, ip_origen, email_domain, priority_level, country)\n",
    "                VALUES (%s, %s, %s, %s, %s, %s, %s);\n",
    "            \"\"\", (row['Email Text'], row['Email Type'], pd.to_datetime(row['Timestamp']), row['IP_origen'], row['Email_domain'], row['Priority_level'], row['Country']))\n",
    "\n",
    "        # Confirmar cambios y cerrar la conexión\n",
    "        conn.commit()\n",
    "        print(\"Primeros 10 registros insertados correctamente.\")\n",
    "        cursor.close()\n",
    "        conn.close()\n",
    "\n",
    "    except Exception as e:\n",
    "        print(f\"Error al insertar datos en la base de datos: {e}\")\n",
    "\n",
    "# Paso 3: Guardar logs no estructurados en un archivo JSON\n",
    "def save_unstructured_logs():\n",
    "    try:\n",
    "        # Crear logs no estructurados usando los primeros 10 registros del DataFrame\n",
    "        unstructured_logs = []\n",
    "\n",
    "        for _, row in df.head(10).iterrows():\n",
    "            log_entry = f\"[{row['Timestamp']}] {row['Email Type']} - {row['Email Text']} from IP {row['IP_origen']}\"\n",
    "            unstructured_logs.append(log_entry)\n",
    "\n",
    "        # Guardar logs no estructurados en un archivo JSON\n",
    "        with open(\"unstructured_logs.json\", \"w\") as file:\n",
    "            json.dump(unstructured_logs, file, indent=4)\n",
    "\n",
    "        print(\"Logs no estructurados guardados en 'unstructured_logs.json'\")\n",
    "\n",
    "    except Exception as e:\n",
    "        print(f\"Error al guardar logs no estructurados: {e}\")\n",
    "\n",
    "\n",
    "# Ejecutar todas las funciones\n",
    "if __name__ == \"__main__\":\n",
    "    create_database_and_table()  # Crear base de datos y tabla\n",
    "    insert_dataframe_to_db()  # Insertar los primeros 10 registros del DataFrame en la tabla\n",
    "    save_unstructured_logs()  # Guardar logs no estructurados en archivo JSON"
   ]
  }
 ],
 "metadata": {
  "kernelspec": {
   "display_name": "base",
   "language": "python",
   "name": "python3"
  },
  "language_info": {
   "codemirror_mode": {
    "name": "ipython",
    "version": 3
   },
   "file_extension": ".py",
   "mimetype": "text/x-python",
   "name": "python",
   "nbconvert_exporter": "python",
   "pygments_lexer": "ipython3",
   "version": "3.12.7"
  }
 },
 "nbformat": 4,
 "nbformat_minor": 2
}
