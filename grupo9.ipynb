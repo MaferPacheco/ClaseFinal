{
 "cells": [
  {
   "cell_type": "markdown",
   "metadata": {},
   "source": [
    "# TAREA FINAL: IMPORTACIÓN DE DATASET (.CSV), SIMULACIÓN DE LOGS Y GRÁFICO DE DATOS"
   ]
  },
  {
   "cell_type": "markdown",
   "metadata": {},
   "source": [
    "Para este ejercicio propuesto lo primero que haremos es importar las librerías necesarias para trabajar con pandas, numpy, generación de gráficos con matplotlib y seaborn para generar distintos tipos de gráficos estadísticos para el mejor análisis de resultados."
   ]
  },
  {
   "cell_type": "code",
   "execution_count": 1,
   "metadata": {},
   "outputs": [],
   "source": [
    "import pandas as pd\n",
    "import numpy as np\n",
    "import matplotlib.pyplot as plt\n",
    "import seaborn as sns"
   ]
  },
  {
   "cell_type": "markdown",
   "metadata": {},
   "source": [
    "Se procederá a leer el dataset que hemos escogido para trabajar: **\"Phishing_Email_1500m.csv\"**\n",
    "\n",
    "***Nota importante:*** El dataset original **\"Phishing_Email.csv\"** no pudo ser cargado a github por superar el tamaño permitido (25MB) ya que el peso es de 49,6 MB. [GitHub muestra el siguiente mensaje: Yowza, that’s a big file. Try again with a file smaller than 25MB.]\n",
    "\n",
    "Por esta razón, se ha tomado solo las primeras 1500 muestras para reducir el tamaño del .csv a 2,35 MB **\"Phishing_Email_1500m.csv\"**"
   ]
  },
  {
   "cell_type": "code",
   "execution_count": 2,
   "metadata": {},
   "outputs": [
    {
     "data": {
      "text/html": [
       "<div>\n",
       "<style scoped>\n",
       "    .dataframe tbody tr th:only-of-type {\n",
       "        vertical-align: middle;\n",
       "    }\n",
       "\n",
       "    .dataframe tbody tr th {\n",
       "        vertical-align: top;\n",
       "    }\n",
       "\n",
       "    .dataframe thead th {\n",
       "        text-align: right;\n",
       "    }\n",
       "</style>\n",
       "<table border=\"1\" class=\"dataframe\">\n",
       "  <thead>\n",
       "    <tr style=\"text-align: right;\">\n",
       "      <th></th>\n",
       "      <th>Column1</th>\n",
       "      <th>Email Text</th>\n",
       "      <th>Email Type</th>\n",
       "    </tr>\n",
       "  </thead>\n",
       "  <tbody>\n",
       "    <tr>\n",
       "      <th>0</th>\n",
       "      <td>0</td>\n",
       "      <td>re : 6 . 1100 , disc : uniformitarianism , re ...</td>\n",
       "      <td>Safe Email</td>\n",
       "    </tr>\n",
       "    <tr>\n",
       "      <th>1</th>\n",
       "      <td>1</td>\n",
       "      <td>the other side of * galicismos * * galicismo *...</td>\n",
       "      <td>Safe Email</td>\n",
       "    </tr>\n",
       "    <tr>\n",
       "      <th>2</th>\n",
       "      <td>2</td>\n",
       "      <td>re : equistar deal tickets are you still avail...</td>\n",
       "      <td>Safe Email</td>\n",
       "    </tr>\n",
       "    <tr>\n",
       "      <th>3</th>\n",
       "      <td>3</td>\n",
       "      <td>\\nHello I am your hot lil horny toy.\\n    I am...</td>\n",
       "      <td>Phishing Email</td>\n",
       "    </tr>\n",
       "    <tr>\n",
       "      <th>4</th>\n",
       "      <td>4</td>\n",
       "      <td>software at incredibly low prices ( 86 % lower...</td>\n",
       "      <td>Phishing Email</td>\n",
       "    </tr>\n",
       "  </tbody>\n",
       "</table>\n",
       "</div>"
      ],
      "text/plain": [
       "   Column1                                         Email Text      Email Type\n",
       "0        0  re : 6 . 1100 , disc : uniformitarianism , re ...      Safe Email\n",
       "1        1  the other side of * galicismos * * galicismo *...      Safe Email\n",
       "2        2  re : equistar deal tickets are you still avail...      Safe Email\n",
       "3        3  \\nHello I am your hot lil horny toy.\\n    I am...  Phishing Email\n",
       "4        4  software at incredibly low prices ( 86 % lower...  Phishing Email"
      ]
     },
     "execution_count": 2,
     "metadata": {},
     "output_type": "execute_result"
    }
   ],
   "source": [
    "df = pd.read_csv(\"/workspaces/practica_tres_gr_9/Phishing_Email_1500m.csv\", encoding=\"latin1\", sep=\";\")\n",
    "df.head()"
   ]
  },
  {
   "cell_type": "code",
   "execution_count": 3,
   "metadata": {},
   "outputs": [
    {
     "name": "stdout",
     "output_type": "stream",
     "text": [
      "Dimension of the DataFrame: (1501, 3)\n"
     ]
    }
   ],
   "source": [
    "print(\"Dimension of the DataFrame:\",df.shape)"
   ]
  },
  {
   "cell_type": "markdown",
   "metadata": {},
   "source": [
    "## Preprocesamiento del DataFrame"
   ]
  },
  {
   "cell_type": "markdown",
   "metadata": {},
   "source": [
    "Ejecutaremos el siguiente código para conocer cúantos elementos vacíos hay en cada columna."
   ]
  },
  {
   "cell_type": "code",
   "execution_count": 4,
   "metadata": {},
   "outputs": [
    {
     "data": {
      "text/plain": [
       "Column1       0\n",
       "Email Text    2\n",
       "Email Type    0\n",
       "dtype: int64"
      ]
     },
     "execution_count": 4,
     "metadata": {},
     "output_type": "execute_result"
    }
   ],
   "source": [
    "df.isnull().sum()"
   ]
  },
  {
   "cell_type": "markdown",
   "metadata": {},
   "source": [
    "Como se observa en el resultado, en el archivo .csv hay una columna que no tiene nombre y se le ha asignado por defecto \"Column1\" al cargar/leer la data. Esta columna contiene índices que no son útiles para nuestro análisis, por lo cual esta columna será eliminada. \n",
    "\n",
    "Además, existen 2 filas que tienen elementos vacíos o nulos (null values) en la columna \"Email Text\", lo siguiente que haremos en removerlos o eliminarlos."
   ]
  },
  {
   "cell_type": "code",
   "execution_count": 5,
   "metadata": {},
   "outputs": [
    {
     "name": "stdout",
     "output_type": "stream",
     "text": [
      "Dimension of the row data: (1501, 2)\n"
     ]
    }
   ],
   "source": [
    "#Eliminación de la columna denominada \"Column1\"\n",
    "#axis=1 indica que la operación se realizará a lo largo de las columnas del DataFrame\n",
    "\n",
    "df.drop([\"Column1\"],axis=1,inplace=True)\n",
    "print(\"Dimension of the row data:\",df.shape)"
   ]
  },
  {
   "cell_type": "code",
   "execution_count": 6,
   "metadata": {},
   "outputs": [
    {
     "name": "stdout",
     "output_type": "stream",
     "text": [
      "Dimension of the row data: (1448, 2)\n"
     ]
    }
   ],
   "source": [
    "#Eliminación de filas que tienen elementos vacíos o nulos (null values)\n",
    "#axis=0 se usa para operaciones a lo largo de las filas del DataFrame\n",
    "df.dropna(inplace=True,axis=0)\n",
    "df.drop_duplicates(inplace=True)\n",
    "print(\"Dimension of the row data:\",df.shape)"
   ]
  },
  {
   "cell_type": "markdown",
   "metadata": {},
   "source": [
    "Como parte del proceso general de limpieza de datos hemos: \n",
    "\n",
    "* **Eliminado muestras duplicadas o irrelevantes** y \n",
    "\n",
    "* **Tratado las muestras incompletas.**"
   ]
  },
  {
   "cell_type": "code",
   "execution_count": 7,
   "metadata": {},
   "outputs": [
    {
     "data": {
      "text/html": [
       "<div>\n",
       "<style scoped>\n",
       "    .dataframe tbody tr th:only-of-type {\n",
       "        vertical-align: middle;\n",
       "    }\n",
       "\n",
       "    .dataframe tbody tr th {\n",
       "        vertical-align: top;\n",
       "    }\n",
       "\n",
       "    .dataframe thead th {\n",
       "        text-align: right;\n",
       "    }\n",
       "</style>\n",
       "<table border=\"1\" class=\"dataframe\">\n",
       "  <thead>\n",
       "    <tr style=\"text-align: right;\">\n",
       "      <th></th>\n",
       "      <th>Email Text</th>\n",
       "      <th>Email Type</th>\n",
       "    </tr>\n",
       "  </thead>\n",
       "  <tbody>\n",
       "    <tr>\n",
       "      <th>0</th>\n",
       "      <td>re : 6 . 1100 , disc : uniformitarianism , re ...</td>\n",
       "      <td>Safe Email</td>\n",
       "    </tr>\n",
       "    <tr>\n",
       "      <th>1</th>\n",
       "      <td>the other side of * galicismos * * galicismo *...</td>\n",
       "      <td>Safe Email</td>\n",
       "    </tr>\n",
       "    <tr>\n",
       "      <th>2</th>\n",
       "      <td>re : equistar deal tickets are you still avail...</td>\n",
       "      <td>Safe Email</td>\n",
       "    </tr>\n",
       "    <tr>\n",
       "      <th>3</th>\n",
       "      <td>\\nHello I am your hot lil horny toy.\\n    I am...</td>\n",
       "      <td>Phishing Email</td>\n",
       "    </tr>\n",
       "    <tr>\n",
       "      <th>4</th>\n",
       "      <td>software at incredibly low prices ( 86 % lower...</td>\n",
       "      <td>Phishing Email</td>\n",
       "    </tr>\n",
       "  </tbody>\n",
       "</table>\n",
       "</div>"
      ],
      "text/plain": [
       "                                          Email Text      Email Type\n",
       "0  re : 6 . 1100 , disc : uniformitarianism , re ...      Safe Email\n",
       "1  the other side of * galicismos * * galicismo *...      Safe Email\n",
       "2  re : equistar deal tickets are you still avail...      Safe Email\n",
       "3  \\nHello I am your hot lil horny toy.\\n    I am...  Phishing Email\n",
       "4  software at incredibly low prices ( 86 % lower...  Phishing Email"
      ]
     },
     "execution_count": 7,
     "metadata": {},
     "output_type": "execute_result"
    }
   ],
   "source": [
    "df.head()"
   ]
  },
  {
   "cell_type": "markdown",
   "metadata": {},
   "source": [
    "Para asegurar que los valores en la columna Email Type siempre sean consistentes y se cuenten correctamente (sin importar como están escritos), es necesario normalizar esos valores convirtiendo todos los valores a minúsculas (o mayúsculas) para evitar diferencias de capitalización. En nuestro caso los convertiremos a minúsculas (**Lowercasing**)."
   ]
  },
  {
   "cell_type": "code",
   "execution_count": 8,
   "metadata": {},
   "outputs": [
    {
     "name": "stdout",
     "output_type": "stream",
     "text": [
      "False\n",
      "0           Safe Email\n",
      "1           Safe Email\n",
      "2           Safe Email\n",
      "3       Phishing Email\n",
      "4       Phishing Email\n",
      "             ...      \n",
      "1496        Safe Email\n",
      "1497    Phishing Email\n",
      "1498        Safe Email\n",
      "1499    Phishing Email\n",
      "1500        Safe Email\n",
      "Name: Email Type, Length: 1448, dtype: object\n",
      "==================================================\n",
      "0           safe email\n",
      "1           safe email\n",
      "2           safe email\n",
      "3       phishing email\n",
      "4       phishing email\n",
      "             ...      \n",
      "1496        safe email\n",
      "1497    phishing email\n",
      "1498        safe email\n",
      "1499    phishing email\n",
      "1500        safe email\n",
      "Name: Email Type, Length: 1448, dtype: object\n"
     ]
    }
   ],
   "source": [
    "#Comprobar si todos los valores de la columna 'Email Type' están en minúsculas\n",
    "all_lowercase = df['Email Type'].apply(lambda x: x.islower()).all()\n",
    "# Mostrar el resultado\n",
    "print(all_lowercase)\n",
    "print(df['Email Type'])\n",
    "print(f\"{'=' * 50}\")\n",
    "\n",
    "# Convertir todos los valores a minúsculas\n",
    "df['Email Type'] = df['Email Type'].str.lower()  \n",
    "# Mostrar el resultado\n",
    "print(df['Email Type'])"
   ]
  },
  {
   "cell_type": "markdown",
   "metadata": {},
   "source": [
    "* **Eliminar espacios innecesarios.**\n",
    "\n",
    "A veces, los datos tienen espacios extra alrededor del texto. Eliminaremos los espacios antes y después de las cadenas en la columna \"Email Type\" para evitar que se cuenten como distintos:"
   ]
  },
  {
   "cell_type": "code",
   "execution_count": 9,
   "metadata": {},
   "outputs": [
    {
     "name": "stdout",
     "output_type": "stream",
     "text": [
      "0           safe email\n",
      "1           safe email\n",
      "2           safe email\n",
      "3       phishing email\n",
      "4       phishing email\n",
      "             ...      \n",
      "1496        safe email\n",
      "1497    phishing email\n",
      "1498        safe email\n",
      "1499    phishing email\n",
      "1500        safe email\n",
      "Name: Email Type, Length: 1448, dtype: object\n"
     ]
    }
   ],
   "source": [
    "# Eliminar espacios en blanco\n",
    "df['Email Type'] = df['Email Type'].str.strip()  \n",
    "print(df['Email Type'])"
   ]
  },
  {
   "cell_type": "markdown",
   "metadata": {},
   "source": [
    "Después de hacer las correcciones, ya tenemos los datos limpios y procedemos a verificar si ahora todas las filas tienen las dos únicas categorías correctas:"
   ]
  },
  {
   "cell_type": "code",
   "execution_count": 10,
   "metadata": {},
   "outputs": [
    {
     "name": "stdout",
     "output_type": "stream",
     "text": [
      "['safe email' 'phishing email']\n"
     ]
    }
   ],
   "source": [
    "# Verificar los valores únicos en la columna\n",
    "print(df['Email Type'].unique())  "
   ]
  },
  {
   "cell_type": "markdown",
   "metadata": {},
   "source": [
    "Finalmente, podemos contar la frecuencia de los valores únicos en la columna Email Type:"
   ]
  },
  {
   "cell_type": "code",
   "execution_count": 11,
   "metadata": {},
   "outputs": [
    {
     "name": "stdout",
     "output_type": "stream",
     "text": [
      "Email Type\n",
      "safe email        869\n",
      "phishing email    579\n",
      "Name: count, dtype: int64\n"
     ]
    }
   ],
   "source": [
    "email_type_counts = df['Email Type'].value_counts()\n",
    "print(email_type_counts)"
   ]
  },
  {
   "cell_type": "markdown",
   "metadata": {},
   "source": [
    "Si sumamos la fecuencia de \"safe email\" y la de \"phishing email\" es igual al Length del DataFrame: 1448"
   ]
  },
  {
   "cell_type": "markdown",
   "metadata": {},
   "source": [
    "## Modificación del DataFrame para generar distintas gráficas.\n",
    "\n",
    "Como nuestro dataFrame únicamente tiene 2 columnas de información, procederemos a crear adicionales con datos simulados, basándonos en el código visto en clase.\n",
    "\n",
    "* Timestamp (fecha y horas aleatorias).\n",
    "\n",
    "* IP_origen (direcciones IP aleatorias).\n",
    "\n",
    "* Email_domain (dominios de correo).\n",
    "\n",
    "* Priority_level (nivel de prioridad).\n",
    "\n",
    "* Country (país de origen)."
   ]
  },
  {
   "cell_type": "markdown",
   "metadata": {},
   "source": [
    "**1. Timestamp**\n",
    "\n",
    "Como no tenemos una columna de tiempo real, generaremos una columna con fechas y horas aleatorias."
   ]
  },
  {
   "cell_type": "code",
   "execution_count": 12,
   "metadata": {},
   "outputs": [
    {
     "name": "stdout",
     "output_type": "stream",
     "text": [
      "0      2023-02-06 07:44:58\n",
      "1      2023-09-05 15:19:31\n",
      "2      2023-09-06 20:28:20\n",
      "3      2023-02-05 23:15:35\n",
      "4      2023-09-21 23:57:12\n",
      "               ...        \n",
      "1496   2023-02-09 13:40:16\n",
      "1497   2023-08-12 10:16:12\n",
      "1498   2023-10-15 12:01:52\n",
      "1499   2023-08-24 00:37:35\n",
      "1500   2023-02-07 19:31:15\n",
      "Name: Timestamp, Length: 1448, dtype: datetime64[ns]\n"
     ]
    }
   ],
   "source": [
    "# Importamos librería requerida\n",
    "from datetime import datetime, timedelta\n",
    "\n",
    "# Generar una fecha aleatoria dentro de un rango\n",
    "def generate_random_timestamp(start, end):\n",
    "    return start + timedelta(seconds=np.random.randint(0, int((end - start).total_seconds())))\n",
    "\n",
    "# Definir el rango de fechas\n",
    "start_date = datetime(2023, 1, 1)\n",
    "end_date = datetime(2024, 1, 1)\n",
    "\n",
    "# Aplicar la función a cada fila del DataFrame\n",
    "df['Timestamp'] = [generate_random_timestamp(start_date, end_date) for _ in range(len(df))]\n",
    "print(df['Timestamp'])"
   ]
  },
  {
   "cell_type": "markdown",
   "metadata": {},
   "source": [
    "**2. IP_origen**\n",
    "\n",
    "Generaremos direcciones IP aleatorias dentro de un rango específico. \n"
   ]
  },
  {
   "cell_type": "code",
   "execution_count": 13,
   "metadata": {},
   "outputs": [
    {
     "name": "stdout",
     "output_type": "stream",
     "text": [
      "0       142.121.137.245\n",
      "1          33.94.145.34\n",
      "2        166.137.252.49\n",
      "3       184.185.249.162\n",
      "4        89.219.106.142\n",
      "             ...       \n",
      "1496     162.240.44.218\n",
      "1497    238.175.184.246\n",
      "1498     142.120.229.42\n",
      "1499       51.80.135.23\n",
      "1500         2.6.88.163\n",
      "Name: IP_origen, Length: 1448, dtype: object\n"
     ]
    }
   ],
   "source": [
    "# Generar IPs aleatorias dentro de un rango\n",
    "def random_ip():\n",
    "    return f\"{np.random.randint(1, 256)}.{np.random.randint(1, 256)}.{np.random.randint(1, 256)}.{np.random.randint(1, 256)}\"\n",
    "\n",
    "# Aplicar la función a cada fila del DataFrame\n",
    "df['IP_origen'] = [random_ip() for _ in range(len(df))]\n",
    "print(df['IP_origen'])"
   ]
  },
  {
   "cell_type": "markdown",
   "metadata": {},
   "source": [
    "**3. Email_domain**\n",
    "\n",
    "Simularemos algunos dominios de las direcciones de correo y los agregaremos como una nueva columna. "
   ]
  },
  {
   "cell_type": "code",
   "execution_count": 14,
   "metadata": {},
   "outputs": [
    {
     "name": "stdout",
     "output_type": "stream",
     "text": [
      "0       hotmail.com\n",
      "1         gmail.com\n",
      "2         yahoo.com\n",
      "3       @google.com\n",
      "4         gmail.com\n",
      "           ...     \n",
      "1496    @google.com\n",
      "1497    hotmail.com\n",
      "1498    outlook.com\n",
      "1499      gmail.com\n",
      "1500    hotmail.com\n",
      "Name: Email_domain, Length: 1448, dtype: object\n"
     ]
    }
   ],
   "source": [
    "# Simular un dominio de correo electrónico aleatorio\n",
    "dominios = ['gmail.com', 'yahoo.com', 'outlook.com', 'hotmail.com','microsoft.com', '@secureemail.com', '@google.com']\n",
    "\n",
    "def random_email_domain():\n",
    "    return np.random.choice(dominios)\n",
    "\n",
    "df['Email_domain'] = [random_email_domain() for _ in range(len(df))]\n",
    "print(df['Email_domain'])"
   ]
  },
  {
   "cell_type": "markdown",
   "metadata": {},
   "source": [
    "**4. Priority_level**\n",
    "\n",
    "Agregaremos una columna que simule el nivel de prioridad de un correo, basándonos en si es phishing email o safe email, ya que este dato viene en el dataset en la columna \"Email Type\"."
   ]
  },
  {
   "cell_type": "code",
   "execution_count": 15,
   "metadata": {},
   "outputs": [
    {
     "name": "stdout",
     "output_type": "stream",
     "text": [
      "0          Low\n",
      "1          Low\n",
      "2          Low\n",
      "3         High\n",
      "4         High\n",
      "         ...  \n",
      "1496       Low\n",
      "1497      High\n",
      "1498       Low\n",
      "1499      High\n",
      "1500    Medium\n",
      "Name: Priority_level, Length: 1448, dtype: object\n"
     ]
    }
   ],
   "source": [
    "# Definir posibles niveles de prioridad para los correos seguros\n",
    "safe_priority_options = ['Low', 'Medium']\n",
    "\n",
    "# Asignar 'High' si se trata de phishing, o asignar un valor aleatorio entre 'Low' y 'Medium' si es un email seguro\n",
    "df['Priority_level'] = df['Email Type'].apply(lambda x: 'High' if x == 'phishing email' else np.random.choice(safe_priority_options))\n",
    "print(df['Priority_level']) "
   ]
  },
  {
   "cell_type": "markdown",
   "metadata": {},
   "source": [
    "**5. Country**\n",
    "\n",
    "Simularemos la ubicación de origen de los correos mediante países."
   ]
  },
  {
   "cell_type": "code",
   "execution_count": 16,
   "metadata": {},
   "outputs": [
    {
     "name": "stdout",
     "output_type": "stream",
     "text": [
      "0          Canada\n",
      "1        Colombia\n",
      "2          Canada\n",
      "3           Spain\n",
      "4             USA\n",
      "          ...    \n",
      "1496       Canada\n",
      "1497      Germany\n",
      "1498       Canada\n",
      "1499        India\n",
      "1500    Argentina\n",
      "Name: Country, Length: 1448, dtype: object\n"
     ]
    }
   ],
   "source": [
    "# Definir países de origen para los correos\n",
    "countries = ['USA', 'Canada', 'UK', 'Germany', 'India', 'Colombia', 'Brazil', 'Argentina', 'Spain']\n",
    "\n",
    "def random_country():\n",
    "    return np.random.choice(countries)\n",
    "\n",
    "df['Country'] = [random_country() for _ in range(len(df))]\n",
    "print(df['Country']) "
   ]
  },
  {
   "cell_type": "code",
   "execution_count": 17,
   "metadata": {},
   "outputs": [
    {
     "data": {
      "text/html": [
       "<div>\n",
       "<style scoped>\n",
       "    .dataframe tbody tr th:only-of-type {\n",
       "        vertical-align: middle;\n",
       "    }\n",
       "\n",
       "    .dataframe tbody tr th {\n",
       "        vertical-align: top;\n",
       "    }\n",
       "\n",
       "    .dataframe thead th {\n",
       "        text-align: right;\n",
       "    }\n",
       "</style>\n",
       "<table border=\"1\" class=\"dataframe\">\n",
       "  <thead>\n",
       "    <tr style=\"text-align: right;\">\n",
       "      <th></th>\n",
       "      <th>Email Text</th>\n",
       "      <th>Email Type</th>\n",
       "      <th>Timestamp</th>\n",
       "      <th>IP_origen</th>\n",
       "      <th>Email_domain</th>\n",
       "      <th>Priority_level</th>\n",
       "      <th>Country</th>\n",
       "    </tr>\n",
       "  </thead>\n",
       "  <tbody>\n",
       "    <tr>\n",
       "      <th>0</th>\n",
       "      <td>re : 6 . 1100 , disc : uniformitarianism , re ...</td>\n",
       "      <td>safe email</td>\n",
       "      <td>2023-02-06 07:44:58</td>\n",
       "      <td>142.121.137.245</td>\n",
       "      <td>hotmail.com</td>\n",
       "      <td>Low</td>\n",
       "      <td>Canada</td>\n",
       "    </tr>\n",
       "    <tr>\n",
       "      <th>1</th>\n",
       "      <td>the other side of * galicismos * * galicismo *...</td>\n",
       "      <td>safe email</td>\n",
       "      <td>2023-09-05 15:19:31</td>\n",
       "      <td>33.94.145.34</td>\n",
       "      <td>gmail.com</td>\n",
       "      <td>Low</td>\n",
       "      <td>Colombia</td>\n",
       "    </tr>\n",
       "    <tr>\n",
       "      <th>2</th>\n",
       "      <td>re : equistar deal tickets are you still avail...</td>\n",
       "      <td>safe email</td>\n",
       "      <td>2023-09-06 20:28:20</td>\n",
       "      <td>166.137.252.49</td>\n",
       "      <td>yahoo.com</td>\n",
       "      <td>Low</td>\n",
       "      <td>Canada</td>\n",
       "    </tr>\n",
       "    <tr>\n",
       "      <th>3</th>\n",
       "      <td>\\nHello I am your hot lil horny toy.\\n    I am...</td>\n",
       "      <td>phishing email</td>\n",
       "      <td>2023-02-05 23:15:35</td>\n",
       "      <td>184.185.249.162</td>\n",
       "      <td>@google.com</td>\n",
       "      <td>High</td>\n",
       "      <td>Spain</td>\n",
       "    </tr>\n",
       "    <tr>\n",
       "      <th>4</th>\n",
       "      <td>software at incredibly low prices ( 86 % lower...</td>\n",
       "      <td>phishing email</td>\n",
       "      <td>2023-09-21 23:57:12</td>\n",
       "      <td>89.219.106.142</td>\n",
       "      <td>gmail.com</td>\n",
       "      <td>High</td>\n",
       "      <td>USA</td>\n",
       "    </tr>\n",
       "  </tbody>\n",
       "</table>\n",
       "</div>"
      ],
      "text/plain": [
       "                                          Email Text      Email Type  \\\n",
       "0  re : 6 . 1100 , disc : uniformitarianism , re ...      safe email   \n",
       "1  the other side of * galicismos * * galicismo *...      safe email   \n",
       "2  re : equistar deal tickets are you still avail...      safe email   \n",
       "3  \\nHello I am your hot lil horny toy.\\n    I am...  phishing email   \n",
       "4  software at incredibly low prices ( 86 % lower...  phishing email   \n",
       "\n",
       "            Timestamp        IP_origen Email_domain Priority_level   Country  \n",
       "0 2023-02-06 07:44:58  142.121.137.245  hotmail.com            Low    Canada  \n",
       "1 2023-09-05 15:19:31     33.94.145.34    gmail.com            Low  Colombia  \n",
       "2 2023-09-06 20:28:20   166.137.252.49    yahoo.com            Low    Canada  \n",
       "3 2023-02-05 23:15:35  184.185.249.162  @google.com           High     Spain  \n",
       "4 2023-09-21 23:57:12   89.219.106.142    gmail.com           High       USA  "
      ]
     },
     "execution_count": 17,
     "metadata": {},
     "output_type": "execute_result"
    }
   ],
   "source": [
    "df.head()"
   ]
  },
  {
   "cell_type": "markdown",
   "metadata": {},
   "source": [
    "***¡Listo!*** Ya tenemos nuestro DataFrame enriquecido con columnas de datos simulados. "
   ]
  },
  {
   "cell_type": "markdown",
   "metadata": {},
   "source": [
    "## Gráficas de Datos\n",
    "\n",
    "A continuación, graficaremos 6 diferentes ilustraciones."
   ]
  },
  {
   "cell_type": "markdown",
   "metadata": {},
   "source": [
    "### 1. Distribución Categórica de Email por tipo"
   ]
  },
  {
   "cell_type": "code",
   "execution_count": 18,
   "metadata": {},
   "outputs": [
    {
     "data": {
      "image/png": "[encoded data removed]",
      "text/plain": [
       "<Figure size 1500x1000 with 1 Axes>"
      ]
     },
     "metadata": {},
     "output_type": "display_data"
    }
   ],
   "source": [
    "# Configuración del estilo del gráfico Email por tipo\n",
    "\n",
    "# Definir tamaño\n",
    "plt.figure(figsize=(15, 10))  \n",
    "\n",
    "# Fondo con cuadrícula sutil\n",
    "sns.set_style(\"whitegrid\")  \n",
    "\n",
    "# Posicionamiento en la cuadrícula\n",
    "plt.subplot(2, 2, 1)  \n",
    "email_type_count = df['Email Type'].value_counts()\n",
    "\n",
    "# Gráfico de barras con 2 colores\n",
    "palette = sns.color_palette(\"pastel\")[:len(email_type_count)]  \n",
    "sns.barplot(x=email_type_count.index, y=email_type_count.values, hue=email_type_count.index, palette=palette, legend=False)\n",
    "\n",
    "# Rotación y alineación de etiquetas del eje X\n",
    "plt.xticks(rotation=0, ha='center')\n",
    "\n",
    "# Etiquetas y título con estilo\n",
    "plt.xlabel('Tipo de Email', fontsize=12)\n",
    "plt.ylabel('Cantidad', fontsize=12)\n",
    "plt.title('Distribución Categórica de Emails por Tipo', fontsize=16, fontweight='bold')\n",
    "\n",
    "# Añadir valores sobre las barras\n",
    "for i, v in enumerate(email_type_count.values):\n",
    "    plt.text(i, v + 5, str(v), ha='center', fontsize=10, fontweight='bold')\n",
    "\n",
    "# Ajustar automáticamente los elementos del gráfico para evitar superposición\n",
    "plt.tight_layout()\n",
    "\n",
    "# Guardar figura\n",
    "plt.savefig('distrib_email_by_type.png')  \n",
    "# Mostrar figura\n",
    "plt.show()"
   ]
  },
  {
   "cell_type": "markdown",
   "metadata": {},
   "source": [
    "### 2. Distribución de eventos por severidad"
   ]
  },
  {
   "cell_type": "code",
   "execution_count": 19,
   "metadata": {},
   "outputs": [
    {
     "ename": "NameError",
     "evalue": "name 'logs_df' is not defined",
     "output_type": "error",
     "traceback": [
      "\u001b[0;31m---------------------------------------------------------------------------\u001b[0m",
      "\u001b[0;31mNameError\u001b[0m                                 Traceback (most recent call last)",
      "Cell \u001b[0;32mIn[19], line 2\u001b[0m\n\u001b[1;32m      1\u001b[0m plt\u001b[38;5;241m.\u001b[39msubplot(\u001b[38;5;241m2\u001b[39m, \u001b[38;5;241m2\u001b[39m, \u001b[38;5;241m2\u001b[39m)\n\u001b[0;32m----> 2\u001b[0m severidad_count \u001b[38;5;241m=\u001b[39m logs_df[\u001b[38;5;124m'\u001b[39m\u001b[38;5;124mseveridad\u001b[39m\u001b[38;5;124m'\u001b[39m]\u001b[38;5;241m.\u001b[39mvalue_counts()\n\u001b[1;32m      3\u001b[0m colors \u001b[38;5;241m=\u001b[39m {\u001b[38;5;124m'\u001b[39m\u001b[38;5;124mlow\u001b[39m\u001b[38;5;124m'\u001b[39m: \u001b[38;5;124m'\u001b[39m\u001b[38;5;124mgreen\u001b[39m\u001b[38;5;124m'\u001b[39m, \u001b[38;5;124m'\u001b[39m\u001b[38;5;124mmedium\u001b[39m\u001b[38;5;124m'\u001b[39m: \u001b[38;5;124m'\u001b[39m\u001b[38;5;124mblue\u001b[39m\u001b[38;5;124m'\u001b[39m, \u001b[38;5;124m'\u001b[39m\u001b[38;5;124mhigh\u001b[39m\u001b[38;5;124m'\u001b[39m: \u001b[38;5;124m'\u001b[39m\u001b[38;5;124morange\u001b[39m\u001b[38;5;124m'\u001b[39m, \u001b[38;5;124m'\u001b[39m\u001b[38;5;124mcritical\u001b[39m\u001b[38;5;124m'\u001b[39m: \u001b[38;5;124m'\u001b[39m\u001b[38;5;124mred\u001b[39m\u001b[38;5;124m'\u001b[39m}\n\u001b[1;32m      4\u001b[0m plt\u001b[38;5;241m.\u001b[39mpie(severidad_count, labels\u001b[38;5;241m=\u001b[39mseveridad_count\u001b[38;5;241m.\u001b[39mindex, autopct\u001b[38;5;241m=\u001b[39m\u001b[38;5;124m'\u001b[39m\u001b[38;5;132;01m%1.1f\u001b[39;00m\u001b[38;5;132;01m%%\u001b[39;00m\u001b[38;5;124m'\u001b[39m, colors\u001b[38;5;241m=\u001b[39m[colors[sev] \u001b[38;5;28;01mfor\u001b[39;00m sev \u001b[38;5;129;01min\u001b[39;00m severidad_count\u001b[38;5;241m.\u001b[39mindex])\n",
      "\u001b[0;31mNameError\u001b[0m: name 'logs_df' is not defined"
     ]
    },
    {
     "data": {
      "image/png": "[encoded data removed]",
      "text/plain": [
       "<Figure size 640x480 with 1 Axes>"
      ]
     },
     "metadata": {},
     "output_type": "display_data"
    }
   ],
   "source": [
    "plt.subplot(2, 2, 2)\n",
    "severidad_count = logs_df['severidad'].value_counts()\n",
    "colors = {'low': 'green', 'medium': 'blue', 'high': 'orange', 'critical': 'red'}\n",
    "plt.pie(severidad_count, labels=severidad_count.index, autopct='%1.1f%%', colors=[colors[sev] for sev in severidad_count.index])\n",
    "plt.title('Distribución de Eventos por Severidad')"
   ]
  },
  {
   "cell_type": "markdown",
   "metadata": {},
   "source": [
    "### 3. Actividad por hora del día"
   ]
  },
  {
   "cell_type": "code",
   "execution_count": null,
   "metadata": {},
   "outputs": [],
   "source": [
    "plt.subplot(2, 2, 3)\n",
    "logs_df['hour'] = logs_df['timestamp'].dt.hour\n",
    "hourly_count = logs_df.groupby('hour').size()\n",
    "sns.lineplot(x=hourly_count.index, y=hourly_count.values)\n",
    "plt.title('Actividad por Hora del Día')\n",
    "plt.xlabel('Hora')\n",
    "plt.ylabel('Número de Eventos')"
   ]
  },
  {
   "cell_type": "markdown",
   "metadata": {},
   "source": [
    "### 4. Eventos por día y por severidad"
   ]
  },
  {
   "cell_type": "code",
   "execution_count": null,
   "metadata": {},
   "outputs": [],
   "source": [
    "plt.subplot(2, 2, 4)\n",
    "logs_df['date'] = logs_df['timestamp'].dt.date\n",
    "pivot_table = pd.crosstab(logs_df['date'], logs_df['severidad'])\n",
    "pivot_table.plot(kind='bar', stacked=True, colormap='viridis')\n",
    "plt.title('Eventos por Día y Severidad')\n",
    "plt.xlabel('Fecha')\n",
    "plt.ylabel('Número de Eventos')\n",
    "plt.xticks(rotation=45)\n",
    "\n",
    "plt.tight_layout()\n",
    "plt.savefig('security_dashboard.png')"
   ]
  },
  {
   "cell_type": "markdown",
   "metadata": {},
   "source": [
    "### 5. Mapa de calor de actividad por hora y tipo de evento"
   ]
  },
  {
   "cell_type": "code",
   "execution_count": null,
   "metadata": {},
   "outputs": [],
   "source": [
    "# Crear gráfico de actividad sospechosa\n",
    "plt.figure(figsize=(12, 6))\n",
    "logs_df['hour'] = logs_df['timestamp'].dt.hour\n",
    "heatmap_data = pd.crosstab(logs_df['hour'], logs_df['evento'])\n",
    "sns.heatmap(heatmap_data, cmap='YlOrRd', annot=True, fmt='d', cbar_kws={'label': 'Número de Eventos'})\n",
    "plt.title('Eventos por Hora y Tipo')\n",
    "plt.xlabel('Tipo de Evento')\n",
    "plt.ylabel('Hora del Día')\n",
    "plt.tight_layout()\n",
    "plt.savefig('activity_heatmap.png')"
   ]
  },
  {
   "cell_type": "markdown",
   "metadata": {},
   "source": [
    "### 6. Análisis de accesos fallidos por usuario"
   ]
  },
  {
   "cell_type": "code",
   "execution_count": null,
   "metadata": {},
   "outputs": [],
   "source": [
    "plt.figure(figsize=(10, 6))\n",
    "failed_logins = logs_df[(logs_df['evento'] == 'login_failure') & (logs_df['exitoso'] == False)]\n",
    "user_failures = failed_logins['usuario'].value_counts()\n",
    "sns.barplot(x=user_failures.index.fillna('anónimo'), y=user_failures.values)\n",
    "plt.title('Intentos de Login Fallidos por Usuario')\n",
    "plt.xlabel('Usuario')\n",
    "plt.ylabel('Número de Intentos Fallidos')\n",
    "plt.xticks(rotation=45)\n",
    "plt.tight_layout()\n",
    "plt.savefig('failed_logins_by_user.png')"
   ]
  },
  {
   "cell_type": "markdown",
   "metadata": {},
   "source": [
    "### 7. Línea de tiempo de eventos críticos"
   ]
  },
  {
   "cell_type": "code",
   "execution_count": null,
   "metadata": {},
   "outputs": [],
   "source": [
    "plt.figure(figsize=(12, 4))\n",
    "critical_events = logs_df[logs_df['severidad'] == 'critical']\n",
    "plt.scatter(critical_events['timestamp'], [1]*len(critical_events), c='red', s=100)\n",
    "plt.yticks([])\n",
    "plt.title('Línea de Tiempo de Eventos Críticos')\n",
    "plt.xlabel('Fecha y Hora')\n",
    "plt.tight_layout()\n",
    "plt.savefig('critical_events_timeline.png')\n",
    "\n",
    "print(\"Visualizaciones generadas correctamente. Revisa los archivos .png generados.\")"
   ]
  }
 ],
 "metadata": {
  "kernelspec": {
   "display_name": "base",
   "language": "python",
   "name": "python3"
  },
  "language_info": {
   "codemirror_mode": {
    "name": "ipython",
    "version": 3
   },
   "file_extension": ".py",
   "mimetype": "text/x-python",
   "name": "python",
   "nbconvert_exporter": "python",
   "pygments_lexer": "ipython3",
   "version": "3.12.7"
  }
 },
 "nbformat": 4,
 "nbformat_minor": 2
}
